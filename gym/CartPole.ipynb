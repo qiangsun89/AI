{
 "cells": [
  {
   "cell_type": "code",
   "execution_count": 10,
   "metadata": {},
   "outputs": [],
   "source": [
    "import gym"
   ]
  },
  {
   "cell_type": "code",
   "execution_count": 11,
   "metadata": {},
   "outputs": [
    {
     "name": "stderr",
     "output_type": "stream",
     "text": [
      "/home/qiang/.local/lib/python3.8/site-packages/gym/utils/passive_env_checker.py:233: DeprecationWarning: `np.bool8` is a deprecated alias for `np.bool_`.  (Deprecated NumPy 1.24)\n",
      "  if not isinstance(terminated, (bool, np.bool8)):\n"
     ]
    }
   ],
   "source": [
    "# 创建环境\n",
    "env = gym.make('CartPole-v1',render_mode=\"rgb_array\")\n",
    "\n",
    "# 初始化环境\n",
    "env.reset()\n",
    "\n",
    "for _ in range(1000):\n",
    "    env.render()  # 渲染环境以便于观察\n",
    "\n",
    "    # 在这个示例中，我们只是随机选择动作\n",
    "    action = env.action_space.sample() \n",
    "\n",
    "    # 执行动作，并获得环境的反馈信息\n",
    "    observation, reward, done, truncated,info = env.step(action)\n",
    "\n",
    "    if done:\n",
    "        env.reset()  # 如果杆子倒下，重置环境\n",
    "\n",
    "env.close()  # 关闭环境"
   ]
  }
 ],
 "metadata": {
  "kernelspec": {
   "display_name": "Python 3",
   "language": "python",
   "name": "python3"
  },
  "language_info": {
   "codemirror_mode": {
    "name": "ipython",
    "version": 3
   },
   "file_extension": ".py",
   "mimetype": "text/x-python",
   "name": "python",
   "nbconvert_exporter": "python",
   "pygments_lexer": "ipython3",
   "version": "3.8.10"
  }
 },
 "nbformat": 4,
 "nbformat_minor": 2
}
